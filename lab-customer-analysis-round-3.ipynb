{
 "cells": [
  {
   "cell_type": "markdown",
   "id": "e0271640",
   "metadata": {},
   "source": [
    "### EDA (Exploratory Data Analysis) - Complete the following tasks to explore the data:\n",
    "\n",
    "- Show DataFrame info.\n",
    "- Describe DataFrame.\n",
    "- Show a plot of the total number of responses.\n",
    "- Show a plot of the response rate by the sales channel.\n",
    "- Show a plot of the response rate by the total claim amount.\n",
    "- Show a plot of the response rate by income."
   ]
  },
  {
   "cell_type": "code",
   "execution_count": null,
   "id": "9cbfae36",
   "metadata": {},
   "outputs": [],
   "source": [
    "import pandas as pd\n",
    "import matplotlib.pyplot as plt\n",
    "import seaborn as sns\n",
    "import warnings\n",
    "warnings.filterwarnings('ignore')\n",
    "%matplotlib inline"
   ]
  },
  {
   "cell_type": "code",
   "execution_count": null,
   "id": "9faba2cc",
   "metadata": {},
   "outputs": [],
   "source": [
    "df = pd.read_csv('merged_clean_marketing_customer_analysis.csv')"
   ]
  },
  {
   "cell_type": "markdown",
   "id": "bfd0c137",
   "metadata": {},
   "source": [
    "Show DataFrame info."
   ]
  },
  {
   "cell_type": "code",
   "execution_count": null,
   "id": "c1027169",
   "metadata": {},
   "outputs": [],
   "source": [
    "df.info()"
   ]
  },
  {
   "cell_type": "code",
   "execution_count": null,
   "id": "e295ce03",
   "metadata": {},
   "outputs": [],
   "source": [
    "df = df.drop(['Unnamed: 0'], axis=1) # not sure why the unnamed column is there, it seems to be inserted into every dataframe automatically\n",
    "df.sample(10)"
   ]
  },
  {
   "cell_type": "markdown",
   "id": "ef768fcd",
   "metadata": {},
   "source": [
    "Describe DataFrame."
   ]
  },
  {
   "cell_type": "code",
   "execution_count": null,
   "id": "b6bae4f2",
   "metadata": {},
   "outputs": [],
   "source": [
    "df.describe()"
   ]
  },
  {
   "cell_type": "code",
   "execution_count": null,
   "id": "17595ac8",
   "metadata": {},
   "outputs": [],
   "source": [
    "df.describe(include='all')"
   ]
  },
  {
   "cell_type": "markdown",
   "id": "6d371a76",
   "metadata": {},
   "source": [
    "Show a plot of the total number of responses."
   ]
  },
  {
   "cell_type": "code",
   "execution_count": null,
   "id": "9eb9853d",
   "metadata": {},
   "outputs": [],
   "source": [
    "df['response'].hist(bins=10)"
   ]
  },
  {
   "cell_type": "markdown",
   "id": "e769031f",
   "metadata": {},
   "source": [
    "Show a plot of the response rate by the sales channel."
   ]
  },
  {
   "cell_type": "code",
   "execution_count": null,
   "id": "ffb67b80",
   "metadata": {},
   "outputs": [],
   "source": [
    "df['sales_channel'].unique()"
   ]
  },
  {
   "cell_type": "code",
   "execution_count": null,
   "id": "11178d48",
   "metadata": {},
   "outputs": [],
   "source": [
    "df['response'].value_counts()"
   ]
  },
  {
   "cell_type": "code",
   "execution_count": null,
   "id": "ab17cf20",
   "metadata": {},
   "outputs": [],
   "source": [
    "# I am now renaming the former NaNs ('no data') to 'No' since both can be attributed to a negative performance of a sales channel.\n",
    "df['response'] = df['response'].replace(['no data'], ['No'])\n",
    "df['response'].unique()"
   ]
  },
  {
   "cell_type": "code",
   "execution_count": null,
   "id": "77f1692b",
   "metadata": {},
   "outputs": [],
   "source": [
    "plt.figure(figsize=(6, 6))\n",
    "sns.countplot(x='sales_channel', hue='response', data=df)\n",
    "plt.show()"
   ]
  },
  {
   "cell_type": "markdown",
   "id": "93181cee",
   "metadata": {},
   "source": [
    "Show a plot of the response rate by the total claim amount."
   ]
  },
  {
   "cell_type": "code",
   "execution_count": null,
   "id": "e7c34c9b",
   "metadata": {},
   "outputs": [],
   "source": [
    "sns.boxplot(x='total_claim_amount', data=df)\n",
    "plt.show()"
   ]
  },
  {
   "cell_type": "code",
   "execution_count": null,
   "id": "4ca2dba6",
   "metadata": {},
   "outputs": [],
   "source": [
    "df['total_claim_amount_range'] = pd.cut(df['total_claim_amount'], \n",
    "bins=[0,250,500,750,1000,3000], labels=['0-250', '250-500', '500-750', '750-1000', '>1000'])"
   ]
  },
  {
   "cell_type": "code",
   "execution_count": null,
   "id": "d7897588",
   "metadata": {},
   "outputs": [],
   "source": [
    "plt.figure(figsize=(8,6))\n",
    "sns.countplot('total_claim_amount_range', hue='response', data=df)\n",
    "plt.xlabel('Total Claim Amount')\n",
    "plt.ylabel('Response Count')"
   ]
  },
  {
   "cell_type": "markdown",
   "id": "37b1e731",
   "metadata": {},
   "source": [
    "Show a plot of the response rate by income."
   ]
  },
  {
   "cell_type": "code",
   "execution_count": null,
   "id": "84f64dcc",
   "metadata": {},
   "outputs": [],
   "source": [
    "df['income_group'] = pd.cut(df['income'], bins=[0, 25000, 50000, 75000, 100000], labels=['Low', 'Middle', 'High', 'Very High'])"
   ]
  },
  {
   "cell_type": "code",
   "execution_count": null,
   "id": "59526969",
   "metadata": {},
   "outputs": [],
   "source": [
    "plt.figure(figsize=(8,6))\n",
    "sns.countplot('income_group', hue='response', data=df)\n",
    "plt.xlabel('Income')\n",
    "plt.ylabel('Response Count')"
   ]
  },
  {
   "cell_type": "markdown",
   "id": "84c5e50f",
   "metadata": {},
   "source": [
    "Also interesting:"
   ]
  },
  {
   "cell_type": "code",
   "execution_count": null,
   "id": "b2c0f2a1",
   "metadata": {
    "scrolled": true
   },
   "outputs": [],
   "source": [
    "filtered_df = df[df['response'] == 'Yes']"
   ]
  },
  {
   "cell_type": "code",
   "execution_count": null,
   "id": "6c90cfb6",
   "metadata": {
    "scrolled": true
   },
   "outputs": [],
   "source": [
    "sns.distplot(filtered_df['income'], bins=20)\n",
    "plt.show()"
   ]
  },
  {
   "cell_type": "code",
   "execution_count": null,
   "id": "de9cb5f1",
   "metadata": {},
   "outputs": [],
   "source": [
    "filtered_df = df[df['response'] == 'No']"
   ]
  },
  {
   "cell_type": "code",
   "execution_count": null,
   "id": "0890ba24",
   "metadata": {},
   "outputs": [],
   "source": [
    "sns.distplot(filtered_df['income'], bins=10)\n",
    "plt.show()"
   ]
  }
 ],
 "metadata": {
  "kernelspec": {
   "display_name": "Python 3 (ipykernel)",
   "language": "python",
   "name": "python3"
  },
  "language_info": {
   "codemirror_mode": {
    "name": "ipython",
    "version": 3
   },
   "file_extension": ".py",
   "mimetype": "text/x-python",
   "name": "python",
   "nbconvert_exporter": "python",
   "pygments_lexer": "ipython3",
   "version": "3.9.13"
  }
 },
 "nbformat": 4,
 "nbformat_minor": 5
}
